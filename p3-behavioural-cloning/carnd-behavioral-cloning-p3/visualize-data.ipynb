{
 "cells": [
  {
   "cell_type": "code",
   "execution_count": 4,
   "metadata": {
    "collapsed": false
   },
   "outputs": [
    {
     "data": {
      "text/plain": [
       "['Behavioral Cloning Videos.zip',\n",
       " 'beta-simulator-linux (1).zip',\n",
       " 'beta-simulator-linux.zip',\n",
       " 'beta-simulator-mac (1).zip',\n",
       " 'beta-simulator-mac.zip',\n",
       " 'beta-simulator-windows.zip',\n",
       " 'CarND-Alexnet-Feature-Extraction',\n",
       " 'CarND-Keras-Lab',\n",
       " 'CarND-Transfer-Learning-Lab',\n",
       " 'data (1).zip',\n",
       " 'data.zip',\n",
       " 'drive.py',\n",
       " 'linux-sim (1).zip',\n",
       " 'linux-sim.zip',\n",
       " 'mac-sim.app (1).zip',\n",
       " 'mac-sim.app.zip',\n",
       " 'recorded-data',\n",
       " 'simulator-linux.zip',\n",
       " 'simulator-macos.zip',\n",
       " 'simulator-windows-32.zip',\n",
       " 'simulator-windows-64.zip',\n",
       " 'windows-sim',\n",
       " 'windows-sim.zip']"
      ]
     },
     "execution_count": 4,
     "metadata": {},
     "output_type": "execute_result"
    }
   ],
   "source": [
    "import os\n",
    "os.listdir(path='D:/SDC/p3')"
   ]
  },
  {
   "cell_type": "code",
   "execution_count": null,
   "metadata": {
    "collapsed": true
   },
   "outputs": [],
   "source": []
  }
 ],
 "metadata": {
  "anaconda-cloud": {},
  "kernelspec": {
   "display_name": "Python [conda root]",
   "language": "python",
   "name": "conda-root-py"
  },
  "language_info": {
   "codemirror_mode": {
    "name": "ipython",
    "version": 3
   },
   "file_extension": ".py",
   "mimetype": "text/x-python",
   "name": "python",
   "nbconvert_exporter": "python",
   "pygments_lexer": "ipython3",
   "version": "3.5.2"
  }
 },
 "nbformat": 4,
 "nbformat_minor": 1
}
