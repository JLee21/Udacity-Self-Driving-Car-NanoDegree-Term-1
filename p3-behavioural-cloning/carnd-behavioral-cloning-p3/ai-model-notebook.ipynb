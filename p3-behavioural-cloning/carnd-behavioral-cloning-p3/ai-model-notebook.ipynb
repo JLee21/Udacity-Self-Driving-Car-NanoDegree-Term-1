{
 "cells": [
  {
   "cell_type": "markdown",
   "metadata": {},
   "source": [
    "### Import Modules"
   ]
  },
  {
   "cell_type": "code",
   "execution_count": 2,
   "metadata": {
    "collapsed": false
   },
   "outputs": [
    {
     "name": "stderr",
     "output_type": "stream",
     "text": [
      "Using TensorFlow backend.\n"
     ]
    }
   ],
   "source": [
    "import csv\n",
    "import cv2\n",
    "import numpy as np\n",
    "import matplotlib.pyplot as plt\n",
    "from tqdm import tqdm\n",
    "from sklearn.model_selection import train_test_split\n",
    "from sklearn.utils import shuffle\n",
    "from keras.models import Sequential, Model\n",
    "from keras.layers import Flatten, Dense, Lambda, Activation, Cropping2D\n",
    "from keras.layers.convolutional import Convolution2D\n",
    "from keras.layers.pooling import MaxPooling2D\n",
    "from keras.layers.core import Dropout\n",
    "\n",
    "# So we can see the output of multiple variables in a single cell\n",
    "from IPython.core.interactiveshell import InteractiveShell\n",
    "InteractiveShell.ast_node_interactivity = \"all\""
   ]
  },
  {
   "cell_type": "markdown",
   "metadata": {},
   "source": [
    "### Load lines from CSV file and split Train/Test"
   ]
  },
  {
   "cell_type": "code",
   "execution_count": 3,
   "metadata": {
    "collapsed": false,
    "scrolled": true
   },
   "outputs": [],
   "source": [
    "# # Are you using AWS?\n",
    "# # Are you using Ricky's driving data?\n",
    "# aws = False\n",
    "# ricky = False\n",
    "\n",
    "# if aws:\n",
    "#     csv_path = '/home/carnd/Udacity-Self-Driving-Car-NanoDegree/p3-behavioural-cloning' \\\n",
    "#                 '/carnd-behavioral-cloning-p3/data/driving_log.csv'\n",
    "#     image_path = '/home/carnd/Udacity-Self-Driving-Car-NanoDegree/p3-behavioural-cloning' \\\n",
    "#                 '/carnd-behavioral-cloning-p3/data/IMG/'\n",
    "# else:\n",
    "#     if ricky:\n",
    "#         csv_path = r\"D:\\SDC\\p3-Behavioural-Cloning\\p3-behavorial-cloning\\ricky\\turn-corrections\\driving_log.csv\"\n",
    "#         image_path = r\"D:\\SDC\\p3-Behavioural-Cloning\\p3-behavorial-cloning\\ricky\\turn-corrections\\IMG\\\\\"\n",
    "#     else:\n",
    "#         csv_path = \"D:\\SDC\\p3-Behavioural-Cloning\\p3-behavorial-cloning\\data\\data\\driving_log.csv\"\n",
    "#         image_path = \"D:\\SDC\\p3-Behavioural-Cloning\\p3-behavorial-cloning\\data\\data\\IMG\\\\\"\n",
    "\n",
    "# lines = []\n",
    "# with tqdm(open(csv_path)) as csvfile:\n",
    "#     reader = csv.reader(csvfile)\n",
    "#     next(reader, None);\n",
    "#     for line in reader:\n",
    "#         lines.append(line)\n",
    "        \n",
    "# # Check if our CSV list is empty\n",
    "# assert len(lines) > 0\n",
    "# assert len(lines[0]) == 7\n",
    "\n",
    "# train_samples, validation_samples = train_test_split(lines, test_size=0.2)"
   ]
  },
  {
   "cell_type": "code",
   "execution_count": 4,
   "metadata": {
    "collapsed": false
   },
   "outputs": [
    {
     "data": {
      "text/plain": [
       "'\\nTHE GOAL\\n\\n1.) Take a peak at the folders that containt the driving data\\n2.) Consolidate all the CSV files into a single list\\n3.) We will NOT augment or trim down any of th data in this script\\n\\nFormat of list\\n[\\n    [part1, part2, ..., part7]\\n    <many rows here>\\n    [part1, part2, ..., part7]\\n]\\n\\n'"
      ]
     },
     "execution_count": 4,
     "metadata": {},
     "output_type": "execute_result"
    }
   ],
   "source": [
    "#%load data-consolidation.py\n",
    "'''\n",
    "THE GOAL\n",
    "\n",
    "1.) Take a peak at the folders that containt the driving data\n",
    "2.) Consolidate all the CSV files into a single list\n",
    "3.) We will NOT augment or trim down any of th data in this script\n",
    "\n",
    "Format of list\n",
    "[\n",
    "    [part1, part2, ..., part7]\n",
    "    <many rows here>\n",
    "    [part1, part2, ..., part7]\n",
    "]\n",
    "\n",
    "'''\n",
    "\n",
    "from os import walk, path\n",
    "from time import time\n",
    "from csv import reader\n",
    "\n",
    "\n",
    "def consolidate(path_to_folders, print_verbose=True):\n",
    "\n",
    "    path_to_files = []\n",
    "    lines = []\n",
    "\n",
    "    if print_verbose:\n",
    "        for a, b, c in walk(path_to_folders):\n",
    "            print('root-------')\n",
    "            print(a, '\\n')\n",
    "            print('\\tdirs-------')\n",
    "            for dir in b:\n",
    "                # Skip the IMG folders\n",
    "                if 'IMG' in dir: continue\n",
    "                # Create a complete path to each folder\n",
    "                print('\\t\\t', dir)\n",
    "            print('\\t\\t\\tfiles-------')\n",
    "            print('\\t\\t\\tfile count = {}'.format(len(c)))\n",
    "            [print('\\t\\t\\t\\t', (file)) for file in c if 'csv' in file]\n",
    "            file = [file for file in c if 'csv' in file]\n",
    "\n",
    "    # Create list of full csv file paths\n",
    "    for a, b, c in walk(path_to_folders):\n",
    "        for file in c:\n",
    "            if 'csv' in file:\n",
    "                path_to_files.append(path.join(a, file))\n",
    "\n",
    "    # Append lines of every CSV file to the list lines\n",
    "    for file in path_to_files:\n",
    "        folder_to_parse = file.split('\\\\')[-2]\n",
    "        print('\\nParsing \\t\\t==> {}'.format(folder_to_parse))\n",
    "\n",
    "        start_time = time()\n",
    "        with open(file, 'r', encoding='UTF-8') as csvfile:\n",
    "            csv_reader = reader(csvfile)\n",
    "            next(csv_reader, None)  # skip header\n",
    "            for line in csv_reader:\n",
    "\n",
    "                # rename the folder path since we have multiple folders (clockwise, corrections, etc.)\n",
    "                # so line[0] will be like this 'clockwise\\\\center.png'\n",
    "                orig = line[0]\n",
    "#                 print('orig\\n', orig)\n",
    "                new = image_path + '\\\\' + folder_to_parse + '\\\\' + 'IMG\\\\' + orig.split('\\\\')[-1]\n",
    "#                 print('folder_to_parse\\n', folder_to_parse)\n",
    "#                 print('new line[0]\\n', new)\n",
    "                line[0] = new\n",
    "#                 print('line\\n', line)\n",
    "                lines.append(line)\n",
    "#                 break\n",
    "#         print('\\'lines\\' length \\t\\t==>', len(lines))\n",
    "\n",
    "        time_in_ms = (time()-start_time)*1000\n",
    "        print('Done! Elapsed time(ms) \\t==> {0:5.2f}'.format(time_in_ms))\n",
    "\n",
    "    return lines\n",
    "\n",
    "# if __name__ == '__main__':\n",
    "#     lines = consolidate(r'D:\\SDC\\p3-Behavioural-Cloning\\p3-behavorial-cloning\\ricky')\n",
    "#     print(len(lines))\n"
   ]
  },
  {
   "cell_type": "code",
   "execution_count": 5,
   "metadata": {
    "collapsed": false
   },
   "outputs": [
    {
     "name": "stdout",
     "output_type": "stream",
     "text": [
      "\n",
      "Parsing \t\t==> clockwise\n",
      "Done! Elapsed time(ms) \t==>  5.00\n",
      "\n",
      "Parsing \t\t==> counter-clockwise\n",
      "Done! Elapsed time(ms) \t==>  4.00\n",
      "\n",
      "Parsing \t\t==> turn-corrections\n",
      "Done! Elapsed time(ms) \t==>  1.00\n",
      "==> len(lines) 2227\n"
     ]
    }
   ],
   "source": [
    "image_path = r'D:\\SDC\\p3-Behavioural-Cloning\\p3-behavorial-cloning\\ricky'\n",
    "lines = consolidate(image_path, print_verbose=False)\n",
    "print('==> len(lines)', len(lines))\n",
    "assert len(lines) > 0, \"You've got no lines\"\n",
    "train_samples, validation_samples = train_test_split(lines, test_size=0.2)\n",
    "lines[0];"
   ]
  },
  {
   "cell_type": "markdown",
   "metadata": {},
   "source": [
    "### Create Generator Function"
   ]
  },
  {
   "cell_type": "code",
   "execution_count": 6,
   "metadata": {
    "collapsed": false
   },
   "outputs": [],
   "source": [
    "def generator(samples, batch_size=16):\n",
    "    num_samples = len(samples)\n",
    "    while 1:\n",
    "        shuffle(samples)\n",
    "        for offset in range(0, num_samples, batch_size):\n",
    "            batch_samples = samples[offset:offset+batch_size]\n",
    "            \n",
    "            images = []\n",
    "            angles = []\n",
    "            for batch_sample in batch_samples:\n",
    "#                 source_path = batch_sample[0]\n",
    "#                 filename = '\\\\' + source_path.split('\\\\')[-2] + '\\\\IMG\\\\' + source_path.split('\\\\')[-1]\n",
    "#                 image_path_list = image_path + filename\n",
    "#                 print('source path\\t{}\\n' \\\n",
    "#                       'filename\\t{}\\n' \\\n",
    "#                       'image_path\\t{}\\n' \\\n",
    "#                       'image_path_list\\t{}\\n\\n'.format(source_path, filename, image_path, image_path_list))\n",
    "#                 print('batch_sample[0]', batch_sample[0])\n",
    "                image = cv2.imread(batch_sample[0])\n",
    "                assert image !=None, 'Looks like you may have the wrong IMG destination\\n{batch}'.format(5)\n",
    "#                 plt.imshow(image)\n",
    "#                 plt.show()\n",
    "                images.append(image)\n",
    "                angle = float(batch_sample[3])\n",
    "                angles.append(angle)\n",
    "                \n",
    "                # Flip images and steering angles\n",
    "                if angle == 0.0: continue\n",
    "                images.append(cv2.flip(image, 1))\n",
    "                angles.append(angle*-1.0)\n",
    "#                 break\n",
    "                \n",
    "            X_train = np.array(images)\n",
    "            y_train = np.array(angles)\n",
    "            \n",
    "            yield shuffle(X_train, y_train)"
   ]
  },
  {
   "cell_type": "code",
   "execution_count": 7,
   "metadata": {
    "collapsed": true
   },
   "outputs": [],
   "source": [
    "train_generator = generator(train_samples, batch_size=32)\n",
    "validation_generator = generator(validation_samples, batch_size=32)"
   ]
  },
  {
   "cell_type": "markdown",
   "metadata": {},
   "source": [
    "### Plot Initial Distribution"
   ]
  },
  {
   "cell_type": "code",
   "execution_count": 8,
   "metadata": {
    "collapsed": false,
    "scrolled": false
   },
   "outputs": [
    {
     "name": "stderr",
     "output_type": "stream",
     "text": [
      "C:\\Program Files\\Anaconda3\\lib\\site-packages\\ipykernel\\__main__.py:20: FutureWarning: comparison to `None` will result in an elementwise object comparison in the future.\n"
     ]
    },
    {
     "data": {
      "image/png": "[encoded data removed]",
      "text/plain": [
       "<matplotlib.figure.Figure at 0xd8fc77b828>"
      ]
     },
     "metadata": {},
     "output_type": "display_data"
    }
   ],
   "source": [
    "# print(train_geneartor)\n",
    "# next(train_generator)\n",
    "X, y = next(train_generator);\n",
    "y_values = []\n",
    "i = 0\n",
    "for x,y in train_generator:\n",
    "    i += 1\n",
    "    y_values.append(y)\n",
    "    if i == 62: break\n",
    "y_values\n",
    "# print(X.shape)\n",
    "# print(y.shape)\n",
    "plt.hist(y_values, 50)\n",
    "plt.show()\n",
    "# print(X)\n",
    "len(validation_samples)\n",
    "validation_samples[0];\n"
   ]
  },
  {
   "cell_type": "markdown",
   "metadata": {
    "collapsed": true
   },
   "source": [
    "### Parse CSV file"
   ]
  },
  {
   "cell_type": "code",
   "execution_count": 10,
   "metadata": {
    "collapsed": false,
    "scrolled": false
   },
   "outputs": [],
   "source": [
    "# images = []\n",
    "# measurements = []\n",
    "# for line in tqdm(lines):\n",
    "#     source_path = line[0]\n",
    "#     filename = source_path.split('/')[-1]\n",
    "#     image_path_list = image_path + '/' + filename\n",
    "#     image = cv2.imread(image_path_list)\n",
    "#     images.append(image)\n",
    "#     measurement = float(line[3])\n",
    "#     measurements.append(measurement)"
   ]
  },
  {
   "cell_type": "markdown",
   "metadata": {},
   "source": [
    "### Flip Image and Steering Angle"
   ]
  },
  {
   "cell_type": "code",
   "execution_count": 11,
   "metadata": {
    "collapsed": true
   },
   "outputs": [],
   "source": [
    "# augmented_images, augmented_measurements = [], []\n",
    "# for image, measurement in zip(images, measurements):\n",
    "#     augmented_images.append(image)\n",
    "#     augmented_measurements.append(measurement)\n",
    "#     # Avoid adding all angles that are at 0.0\n",
    "#     if measurement == 0.0: continue\n",
    "#     augmented_images.append(cv2.flip(image, 1))\n",
    "#     augmented_measurements.append(measurement*-1.0)"
   ]
  },
  {
   "cell_type": "markdown",
   "metadata": {},
   "source": [
    "### Construct Model"
   ]
  },
  {
   "cell_type": "code",
   "execution_count": 11,
   "metadata": {
    "collapsed": false
   },
   "outputs": [],
   "source": [
    "# batch_size = 32\n",
    "\n",
    "# X_train = np.array(augmented_images)\n",
    "# y_train = np.array(augmented_measurements)\n",
    "\n",
    "# X_train = np.array(images)\n",
    "# y_train = np.array(measurements)\n",
    "\n",
    "# Model 1 - barebones model\n",
    "# model = Sequential()\n",
    "# model.add(Flatten(input_shape=(160,320,3)))\n",
    "# model.add(Dense(128))\n",
    "# model.add(Dense(84))\n",
    "# model.add(Dense(1))\n",
    "\n",
    "# Model 2\n",
    "# model = Sequential()\n",
    "# model.add(Lambda(lambda x: x / 255.0 - 0.5, input_shape=(160, 320, 3)))\n",
    "# model.add(Convolution2D(32,3,3, border_mode='same'))\n",
    "# model.add(Activation('relu'))\n",
    "# model.add(Convolution2D(16, 3, 3, border_mode='same'))\n",
    "# model.add(Activation('relu'))\n",
    "# model.add(MaxPooling2D(pool_size=(3,3)))\n",
    "# model.add(Dropout(0.25))\n",
    "# model.add(Flatten())\n",
    "# model.add(Dense(128))\n",
    "# model.add(Activation('relu'))\n",
    "# model.add(Dropout(0.5))\n",
    "# model.add(Dense(84))\n",
    "# model.add(Activation('relu'))\n",
    "# model.add(Dropout(0.5))\n",
    "# model.add(Dense(1))\n",
    "\n",
    "# Model 3\n",
    "model = Sequential()\n",
    "model.add(Cropping2D(cropping=((70,25),(0,0)), input_shape=(160, 320, 3)))\n",
    "model.add(Lambda(lambda x: x / 255.0 - 0.5))\n",
    "model.add(Convolution2D(64,3,3, border_mode='same'))\n",
    "model.add(Activation('relu'))\n",
    "model.add(MaxPooling2D(pool_size=(3,3)))\n",
    "model.add(Convolution2D(16, 3, 3, border_mode='same'))\n",
    "model.add(Activation('relu'))\n",
    "model.add(MaxPooling2D(pool_size=(3,3)))\n",
    "model.add(Dropout(0.25))\n",
    "model.add(Flatten())\n",
    "model.add(Dense(1164))\n",
    "model.add(Activation('relu'))\n",
    "model.add(Dropout(0.5))\n",
    "model.add(Dense(100))\n",
    "model.add(Activation('relu'))\n",
    "model.add(Dense(50))\n",
    "model.add(Activation('relu'))\n",
    "model.add(Dense(10))\n",
    "model.add(Activation('relu'))\n",
    "model.add(Dense(1))"
   ]
  },
  {
   "cell_type": "markdown",
   "metadata": {},
   "source": [
    "### Train, Validate, and Save Model"
   ]
  },
  {
   "cell_type": "code",
   "execution_count": null,
   "metadata": {
    "collapsed": false,
    "scrolled": false
   },
   "outputs": [
    {
     "name": "stdout",
     "output_type": "stream",
     "text": [
      "Epoch 1/7\n"
     ]
    },
    {
     "name": "stderr",
     "output_type": "stream",
     "text": [
      "C:\\Program Files\\Anaconda3\\lib\\site-packages\\ipykernel\\__main__.py:20: FutureWarning: comparison to `None` will result in an elementwise object comparison in the future.\n"
     ]
    },
    {
     "name": "stdout",
     "output_type": "stream",
     "text": [
      "1391/1781 [======================>.......] - ETA: 15s - loss: 0.0034"
     ]
    }
   ],
   "source": [
    "model.compile(loss='mse', optimizer='adam')\n",
    "# model.fit(X_train, y_train, validation_split=0.2, shuffle=True, nb_epoch=5, batch_size=batch_size)\n",
    "\n",
    "nb_val_samples = len(validation_samples)\n",
    "nb_epoch = 7\n",
    "\n",
    "# Complie modile with Generator\n",
    "history_object = model.fit_generator(train_generator, samples_per_epoch=len(train_samples), \\\n",
    "                   validation_data=validation_generator, \\\n",
    "                   nb_val_samples=nb_val_samples, nb_epoch=nb_epoch, \\\n",
    "                   verbose=1)\n",
    "\n",
    "model.save('model-ricky-data.h5')\n",
    "print('model {} saved'.format(model.__str__))"
   ]
  },
  {
   "cell_type": "markdown",
   "metadata": {},
   "source": [
    "### Analyze how well the model does"
   ]
  },
  {
   "cell_type": "code",
   "execution_count": 13,
   "metadata": {
    "collapsed": false
   },
   "outputs": [
    {
     "name": "stdout",
     "output_type": "stream",
     "text": [
      "dict_keys(['val_loss', 'loss'])\n"
     ]
    }
   ],
   "source": [
    "print(history_object.history.keys())"
   ]
  },
  {
   "cell_type": "code",
   "execution_count": 16,
   "metadata": {
    "collapsed": false
   },
   "outputs": [
    {
     "data": {
      "text/plain": [
       "[<matplotlib.lines.Line2D at 0x6381df38d0>]"
      ]
     },
     "execution_count": 16,
     "metadata": {},
     "output_type": "execute_result"
    },
    {
     "data": {
      "text/plain": [
       "[<matplotlib.lines.Line2D at 0x63cea1e9b0>]"
      ]
     },
     "execution_count": 16,
     "metadata": {},
     "output_type": "execute_result"
    },
    {
     "data": {
      "text/plain": [
       "<matplotlib.text.Text at 0x6381133160>"
      ]
     },
     "execution_count": 16,
     "metadata": {},
     "output_type": "execute_result"
    },
    {
     "data": {
      "text/plain": [
       "<matplotlib.text.Text at 0x6381120390>"
      ]
     },
     "execution_count": 16,
     "metadata": {},
     "output_type": "execute_result"
    },
    {
     "data": {
      "text/plain": [
       "<matplotlib.text.Text at 0x6381df6550>"
      ]
     },
     "execution_count": 16,
     "metadata": {},
     "output_type": "execute_result"
    },
    {
     "data": {
      "text/plain": [
       "<matplotlib.legend.Legend at 0x6381dfa518>"
      ]
     },
     "execution_count": 16,
     "metadata": {},
     "output_type": "execute_result"
    },
    {
     "data": {
      "image/png": "[encoded data removed]",
      "text/plain": [
       "<matplotlib.figure.Figure at 0x63cea1ea58>"
      ]
     },
     "metadata": {},
     "output_type": "display_data"
    }
   ],
   "source": [
    "plt.plot(history_object.history['val_loss'])\n",
    "plt.plot(history_object.history['loss'])\n",
    "plt.title('model mean squared error loss')\n",
    "plt.ylabel('meansquared error loss')\n",
    "plt.xlabel('epoch')\n",
    "plt.legend(['training set', 'validation set'], loc='upper right')\n",
    "plt.show()"
   ]
  },
  {
   "cell_type": "code",
   "execution_count": null,
   "metadata": {
    "collapsed": true
   },
   "outputs": [],
   "source": []
  }
 ],
 "metadata": {
  "anaconda-cloud": {},
  "kernelspec": {
   "display_name": "Python [conda root]",
   "language": "python",
   "name": "conda-root-py"
  },
  "language_info": {
   "codemirror_mode": {
    "name": "ipython",
    "version": 3
   },
   "file_extension": ".py",
   "mimetype": "text/x-python",
   "name": "python",
   "nbconvert_exporter": "python",
   "pygments_lexer": "ipython3",
   "version": "3.5.2"
  }
 },
 "nbformat": 4,
 "nbformat_minor": 1
}
