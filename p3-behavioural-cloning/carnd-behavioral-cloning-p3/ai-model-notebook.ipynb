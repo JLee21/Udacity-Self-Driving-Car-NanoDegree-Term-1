{
 "cells": [
  {
   "cell_type": "markdown",
   "metadata": {},
   "source": [
    "### Import Modules"
   ]
  },
  {
   "cell_type": "code",
   "execution_count": 1,
   "metadata": {
    "collapsed": false
   },
   "outputs": [
    {
     "name": "stderr",
     "output_type": "stream",
     "text": [
      "Using TensorFlow backend.\n"
     ]
    }
   ],
   "source": [
    "import csv\n",
    "import cv2\n",
    "import numpy as np\n",
    "import matplotlib.pyplot as plt\n",
    "from tqdm import tqdm\n",
    "from sklearn.model_selection import train_test_split\n",
    "from sklearn.utils import shuffle\n",
    "from keras.models import Sequential, Model\n",
    "from keras.layers import Flatten, Dense, Lambda, Activation, Cropping2D\n",
    "from keras.layers.convolutional import Convolution2D\n",
    "from keras.layers.pooling import MaxPooling2D\n",
    "from keras.layers.core import Dropout"
   ]
  },
  {
   "cell_type": "markdown",
   "metadata": {},
   "source": [
    "### Load lines from CSV file and split Train/Test"
   ]
  },
  {
   "cell_type": "code",
   "execution_count": 2,
   "metadata": {
    "collapsed": false,
    "scrolled": true
   },
   "outputs": [
    {
     "name": "stderr",
     "output_type": "stream",
     "text": [
      "8037it [00:00, 236218.92it/s]\n"
     ]
    }
   ],
   "source": [
    "# Are you using AWS?\n",
    "# Are you using Ricky's driving data?\n",
    "aws = False\n",
    "ricky = False\n",
    "\n",
    "if aws:\n",
    "    csv_path = '/home/carnd/Udacity-Self-Driving-Car-NanoDegree/p3-behavioural-cloning' \\\n",
    "                '/carnd-behavioral-cloning-p3/data/driving_log.csv'\n",
    "    image_path = '/home/carnd/Udacity-Self-Driving-Car-NanoDegree/p3-behavioural-cloning' \\\n",
    "                '/carnd-behavioral-cloning-p3/data/IMG/'\n",
    "else:\n",
    "    if ricky:\n",
    "        csv_path = r\"D:\\SDC\\p3-Behavioural-Cloning\\p3-behavorial-cloning\\ricky\\turn-corrections\\driving_log.csv\"\n",
    "        image_path = r\"D:\\SDC\\p3-Behavioural-Cloning\\p3-behavorial-cloning\\ricky\\turn-corrections\\IMG\\\\\"\n",
    "    else:\n",
    "        csv_path = \"D:\\SDC\\p3-Behavioural-Cloning\\p3-behavorial-cloning\\data\\data\\driving_log.csv\"\n",
    "        image_path = \"D:\\SDC\\p3-Behavioural-Cloning\\p3-behavorial-cloning\\data\\data\\IMG\\\\\"\n",
    "\n",
    "lines = []\n",
    "with tqdm(open(csv_path)) as csvfile:\n",
    "    reader = csv.reader(csvfile)\n",
    "    next(reader, None)\n",
    "    for line in reader:\n",
    "        lines.append(line)\n",
    "        \n",
    "# Check if our CSV list is empty\n",
    "assert len(lines) > 0\n",
    "assert len(lines[0]) == 7\n",
    "\n",
    "train_samples, validation_samples = train_test_split(lines, test_size=0.2)"
   ]
  },
  {
   "cell_type": "markdown",
   "metadata": {},
   "source": [
    "### Create Generator Function"
   ]
  },
  {
   "cell_type": "code",
   "execution_count": 3,
   "metadata": {
    "collapsed": false
   },
   "outputs": [],
   "source": [
    "def generator(samples, batch_size=16):\n",
    "    num_samples = len(samples)\n",
    "    while 1:\n",
    "        shuffle(samples)\n",
    "        for offset in range(0, num_samples, batch_size):\n",
    "            batch_samples = samples[offset:offset+batch_size]\n",
    "            \n",
    "            images = []\n",
    "            angles = []\n",
    "            for batch_sample in batch_samples:\n",
    "                source_path = batch_sample[0]\n",
    "                filename = source_path.split('/')[-1]\n",
    "                image_path_list = image_path + filename\n",
    "#                 print('source path\\t{}\\n' \\\n",
    "#                       'filename\\t{}\\n' \\\n",
    "#                       'image_path\\t{}\\n' \\\n",
    "#                       'image_path_list\\t{}\\n\\n'.format(source_path, filename, image_path, image_path_list))\n",
    "                image = cv2.imread(image_path_list)\n",
    "                assert image !=None, 'Looks like you may have the wrong IMG destination'\n",
    "#                 plt.imshow(image)\n",
    "#                 plt.show()\n",
    "                images.append(image)\n",
    "                angle = float(batch_sample[3])\n",
    "                angles.append(angle)\n",
    "                \n",
    "                # Flip images and steering angles\n",
    "                if angle == 0.0: continue\n",
    "                images.append(cv2.flip(image, 1))\n",
    "                angles.append(angle*-1.0)\n",
    "                \n",
    "            X_train = np.array(images)\n",
    "            y_train = np.array(angles)\n",
    "            \n",
    "            yield shuffle(X_train, y_train)\n",
    "\n",
    "train_generator = generator(train_samples, batch_size=32)\n",
    "validation_generator = generator(validation_samples, batch_size=32)"
   ]
  },
  {
   "cell_type": "markdown",
   "metadata": {},
   "source": [
    "### Plot Initial Distribution"
   ]
  },
  {
   "cell_type": "code",
   "execution_count": 4,
   "metadata": {
    "collapsed": false,
    "scrolled": true
   },
   "outputs": [
    {
     "name": "stderr",
     "output_type": "stream",
     "text": [
      "C:\\Program Files\\Anaconda3\\lib\\site-packages\\ipykernel\\__main__.py:19: FutureWarning: comparison to `None` will result in an elementwise object comparison in the future.\n"
     ]
    },
    {
     "name": "stdout",
     "output_type": "stream",
     "text": [
      "(43, 160, 320, 3)\n",
      "(43,)\n"
     ]
    },
    {
     "data": {
      "image/png": "[encoded data removed]",
      "text/plain": [
       "<matplotlib.figure.Figure at 0xdf3fc5e080>"
      ]
     },
     "metadata": {},
     "output_type": "display_data"
    },
    {
     "name": "stdout",
     "output_type": "stream",
     "text": [
      "[[[[173 134 106]\n",
      "   [173 134 106]\n",
      "   [173 134 106]\n",
      "   ..., \n",
      "   [233 181 141]\n",
      "   [231 182 142]\n",
      "   [229 183 142]]\n",
      "\n",
      "  [[173 134 106]\n",
      "   [173 134 106]\n",
      "   [173 134 106]\n",
      "   ..., \n",
      "   [244 193 160]\n",
      "   [213 166 134]\n",
      "   [230 185 152]]\n",
      "\n",
      "  [[174 135 107]\n",
      "   [174 135 107]\n",
      "   [174 135 107]\n",
      "   ..., \n",
      "   [235 191 168]\n",
      "   [212 173 151]\n",
      "   [218 184 161]]\n",
      "\n",
      "  ..., \n",
      "  [[ 94 108 107]\n",
      "   [108 122 121]\n",
      "   [116 130 129]\n",
      "   ..., \n",
      "   [140 161 163]\n",
      "   [150 171 173]\n",
      "   [157 178 180]]\n",
      "\n",
      "  [[130 144 143]\n",
      "   [115 129 128]\n",
      "   [102 116 115]\n",
      "   ..., \n",
      "   [143 164 166]\n",
      "   [144 165 167]\n",
      "   [146 167 169]]\n",
      "\n",
      "  [[ 98 112 111]\n",
      "   [ 99 113 112]\n",
      "   [109 123 122]\n",
      "   ..., \n",
      "   [149 170 172]\n",
      "   [153 174 176]\n",
      "   [157 178 180]]]\n",
      "\n",
      "\n",
      " [[[203 159 128]\n",
      "   [203 159 128]\n",
      "   [203 159 128]\n",
      "   ..., \n",
      "   [178 171 138]\n",
      "   [179 174 141]\n",
      "   [175 170 137]]\n",
      "\n",
      "  [[203 159 128]\n",
      "   [203 159 128]\n",
      "   [203 159 128]\n",
      "   ..., \n",
      "   [ 84  87  62]\n",
      "   [160 164 139]\n",
      "   [164 170 145]]\n",
      "\n",
      "  [[204 160 129]\n",
      "   [204 160 129]\n",
      "   [204 160 129]\n",
      "   ..., \n",
      "   [108 128 116]\n",
      "   [ 93 114 105]\n",
      "   [113 137 127]]\n",
      "\n",
      "  ..., \n",
      "  [[164 187 209]\n",
      "   [167 190 212]\n",
      "   [169 193 213]\n",
      "   ..., \n",
      "   [ 90 103 119]\n",
      "   [106 119 135]\n",
      "   [162 175 191]]\n",
      "\n",
      "  [[181 204 226]\n",
      "   [164 188 208]\n",
      "   [153 174 195]\n",
      "   ..., \n",
      "   [ 92 105 121]\n",
      "   [103 116 132]\n",
      "   [ 94 107 123]]\n",
      "\n",
      "  [[154 178 198]\n",
      "   [163 184 205]\n",
      "   [169 190 211]\n",
      "   ..., \n",
      "   [102 115 131]\n",
      "   [ 97 110 126]\n",
      "   [ 97 110 126]]]\n",
      "\n",
      "\n",
      " [[[154 133 135]\n",
      "   [157 143 144]\n",
      "   [127 123 122]\n",
      "   ..., \n",
      "   [236 183 150]\n",
      "   [222 169 136]\n",
      "   [222 169 136]]\n",
      "\n",
      "  [[ 12   0   0]\n",
      "   [136 130 131]\n",
      "   [144 149 147]\n",
      "   ..., \n",
      "   [233 180 147]\n",
      "   [225 172 139]\n",
      "   [249 196 163]]\n",
      "\n",
      "  [[ 31  30  32]\n",
      "   [ 52  57  58]\n",
      "   [ 52  69  66]\n",
      "   ..., \n",
      "   [231 178 145]\n",
      "   [225 172 139]\n",
      "   [228 175 142]]\n",
      "\n",
      "  ..., \n",
      "  [[114 124 124]\n",
      "   [ 95 105 105]\n",
      "   [ 74  84  84]\n",
      "   ..., \n",
      "   [118 140 146]\n",
      "   [113 135 141]\n",
      "   [108 130 136]]\n",
      "\n",
      "  [[ 73  83  83]\n",
      "   [ 67  77  77]\n",
      "   [ 65  75  75]\n",
      "   ..., \n",
      "   [117 139 145]\n",
      "   [118 140 146]\n",
      "   [117 139 145]]\n",
      "\n",
      "  [[ 63  73  73]\n",
      "   [ 60  70  70]\n",
      "   [ 64  74  74]\n",
      "   ..., \n",
      "   [109 131 137]\n",
      "   [114 136 142]\n",
      "   [118 140 146]]]\n",
      "\n",
      "\n",
      " ..., \n",
      " [[[ 27  15   3]\n",
      "   [173 157 141]\n",
      "   [185 161 141]\n",
      "   ..., \n",
      "   [196 151 113]\n",
      "   [209 167 124]\n",
      "   [208 169 124]]\n",
      "\n",
      "  [[ 20   8   0]\n",
      "   [ 82  66  50]\n",
      "   [171 147 127]\n",
      "   ..., \n",
      "   [206 161 124]\n",
      "   [213 173 131]\n",
      "   [201 165 119]]\n",
      "\n",
      "  [[ 32  20  10]\n",
      "   [ 26  10   0]\n",
      "   [196 172 152]\n",
      "   ..., \n",
      "   [209 164 130]\n",
      "   [211 172 133]\n",
      "   [193 158 115]]\n",
      "\n",
      "  ..., \n",
      "  [[ 88 103 105]\n",
      "   [ 99 114 116]\n",
      "   [112 127 129]\n",
      "   ..., \n",
      "   [ 74  92  93]\n",
      "   [ 80  98  99]\n",
      "   [ 91 109 110]]\n",
      "\n",
      "  [[110 125 127]\n",
      "   [106 121 123]\n",
      "   [ 97 112 114]\n",
      "   ..., \n",
      "   [ 94 112 113]\n",
      "   [ 80  98  99]\n",
      "   [ 66  84  85]]\n",
      "\n",
      "  [[ 86 101 103]\n",
      "   [ 84  99 101]\n",
      "   [ 82  97  99]\n",
      "   ..., \n",
      "   [ 84 102 103]\n",
      "   [ 83 101 102]\n",
      "   [ 81  99 100]]]\n",
      "\n",
      "\n",
      " [[[180 141 113]\n",
      "   [180 141 113]\n",
      "   [179 140 112]\n",
      "   ..., \n",
      "   [120 166 174]\n",
      "   [116 162 170]\n",
      "   [120 166 174]]\n",
      "\n",
      "  [[180 141 113]\n",
      "   [180 141 113]\n",
      "   [180 141 113]\n",
      "   ..., \n",
      "   [145 191 199]\n",
      "   [129 175 183]\n",
      "   [116 162 170]]\n",
      "\n",
      "  [[181 142 114]\n",
      "   [181 142 114]\n",
      "   [181 142 114]\n",
      "   ..., \n",
      "   [132 179 187]\n",
      "   [144 191 199]\n",
      "   [155 202 210]]\n",
      "\n",
      "  ..., \n",
      "  [[111 128 125]\n",
      "   [ 95 112 109]\n",
      "   [ 79  96  93]\n",
      "   ..., \n",
      "   [ 96 108 108]\n",
      "   [102 114 114]\n",
      "   [107 119 119]]\n",
      "\n",
      "  [[ 67  84  81]\n",
      "   [ 71  88  85]\n",
      "   [ 81  98  95]\n",
      "   ..., \n",
      "   [103 115 115]\n",
      "   [101 113 113]\n",
      "   [ 99 111 111]]\n",
      "\n",
      "  [[ 84 101  98]\n",
      "   [ 88 105 102]\n",
      "   [ 96 113 110]\n",
      "   ..., \n",
      "   [108 120 120]\n",
      "   [116 128 128]\n",
      "   [119 131 131]]]\n",
      "\n",
      "\n",
      " [[[165 138 134]\n",
      "   [143 118 114]\n",
      "   [ 44  24  19]\n",
      "   ..., \n",
      "   [223 175 141]\n",
      "   [224 176 142]\n",
      "   [224 176 142]]\n",
      "\n",
      "  [[140 134 129]\n",
      "   [143 139 134]\n",
      "   [136 134 126]\n",
      "   ..., \n",
      "   [224 176 142]\n",
      "   [224 176 142]\n",
      "   [224 176 142]]\n",
      "\n",
      "  [[156 180 172]\n",
      "   [166 190 182]\n",
      "   [155 182 173]\n",
      "   ..., \n",
      "   [225 177 143]\n",
      "   [225 177 143]\n",
      "   [225 177 143]]\n",
      "\n",
      "  ..., \n",
      "  [[ 79  91  91]\n",
      "   [ 79  91  91]\n",
      "   [ 79  91  91]\n",
      "   ..., \n",
      "   [125 146 148]\n",
      "   [145 166 168]\n",
      "   [160 181 183]]\n",
      "\n",
      "  [[ 87  99  99]\n",
      "   [ 85  97  97]\n",
      "   [ 82  94  94]\n",
      "   ..., \n",
      "   [112 133 135]\n",
      "   [136 157 159]\n",
      "   [163 184 186]]\n",
      "\n",
      "  [[ 94 106 106]\n",
      "   [ 87  99  99]\n",
      "   [ 80  92  92]\n",
      "   ..., \n",
      "   [108 129 131]\n",
      "   [108 129 131]\n",
      "   [114 135 137]]]]\n"
     ]
    }
   ],
   "source": [
    "# print(train_geneartor)\n",
    "# next(train_geneartor)\n",
    "X, y = next(train_generator)\n",
    "print(X.shape)\n",
    "print(y.shape)\n",
    "plt.hist(y)\n",
    "plt.show()\n",
    "print(X)"
   ]
  },
  {
   "cell_type": "markdown",
   "metadata": {
    "collapsed": true
   },
   "source": [
    "### Parse CSV file"
   ]
  },
  {
   "cell_type": "code",
   "execution_count": 5,
   "metadata": {
    "collapsed": false,
    "scrolled": false
   },
   "outputs": [],
   "source": [
    "# images = []\n",
    "# measurements = []\n",
    "# for line in tqdm(lines):\n",
    "#     source_path = line[0]\n",
    "#     filename = source_path.split('/')[-1]\n",
    "#     image_path_list = image_path + '/' + filename\n",
    "#     image = cv2.imread(image_path_list)\n",
    "#     images.append(image)\n",
    "#     measurement = float(line[3])\n",
    "#     measurements.append(measurement)"
   ]
  },
  {
   "cell_type": "markdown",
   "metadata": {},
   "source": [
    "### Flip Image and Steering Angle"
   ]
  },
  {
   "cell_type": "code",
   "execution_count": 6,
   "metadata": {
    "collapsed": true
   },
   "outputs": [],
   "source": [
    "# augmented_images, augmented_measurements = [], []\n",
    "# for image, measurement in zip(images, measurements):\n",
    "#     augmented_images.append(image)\n",
    "#     augmented_measurements.append(measurement)\n",
    "#     # Avoid adding all angles that are at 0.0\n",
    "#     if measurement == 0.0: continue\n",
    "#     augmented_images.append(cv2.flip(image, 1))\n",
    "#     augmented_measurements.append(measurement*-1.0)"
   ]
  },
  {
   "cell_type": "markdown",
   "metadata": {},
   "source": [
    "### Construct Model"
   ]
  },
  {
   "cell_type": "code",
   "execution_count": 7,
   "metadata": {
    "collapsed": false
   },
   "outputs": [],
   "source": [
    "# batch_size = 32\n",
    "\n",
    "# X_train = np.array(augmented_images)\n",
    "# y_train = np.array(augmented_measurements)\n",
    "\n",
    "# X_train = np.array(images)\n",
    "# y_train = np.array(measurements)\n",
    "\n",
    "# Model 1 - barebones model\n",
    "# model = Sequential()\n",
    "# model.add(Flatten(input_shape=(160,320,3)))\n",
    "# model.add(Dense(128))\n",
    "# model.add(Dense(84))\n",
    "# model.add(Dense(1))\n",
    "\n",
    "# Model 2\n",
    "# model = Sequential()\n",
    "# model.add(Lambda(lambda x: x / 255.0 - 0.5, input_shape=(160, 320, 3)))\n",
    "# model.add(Convolution2D(32,3,3, border_mode='same'))\n",
    "# model.add(Activation('relu'))\n",
    "# model.add(Convolution2D(16, 3, 3, border_mode='same'))\n",
    "# model.add(Activation('relu'))\n",
    "# model.add(MaxPooling2D(pool_size=(3,3)))\n",
    "# model.add(Dropout(0.25))\n",
    "# model.add(Flatten())\n",
    "# model.add(Dense(128))\n",
    "# model.add(Activation('relu'))\n",
    "# model.add(Dropout(0.5))\n",
    "# model.add(Dense(84))\n",
    "# model.add(Activation('relu'))\n",
    "# model.add(Dropout(0.5))\n",
    "# model.add(Dense(1))\n",
    "\n",
    "# Model 3\n",
    "model = Sequential()\n",
    "model.add(Cropping2D(cropping=((70,25),(0,0)), input_shape=(160, 320, 3)))\n",
    "model.add(Lambda(lambda x: x / 255.0 - 0.5))\n",
    "model.add(Convolution2D(64,3,3, border_mode='same'))\n",
    "model.add(Activation('relu'))\n",
    "model.add(MaxPooling2D(pool_size=(3,3)))\n",
    "model.add(Convolution2D(16, 3, 3, border_mode='same'))\n",
    "model.add(Activation('relu'))\n",
    "model.add(MaxPooling2D(pool_size=(3,3)))\n",
    "model.add(Dropout(0.25))\n",
    "model.add(Flatten())\n",
    "model.add(Dense(128))\n",
    "model.add(Activation('relu'))\n",
    "model.add(Dropout(0.5))\n",
    "model.add(Dense(84))\n",
    "model.add(Activation('relu'))\n",
    "model.add(Dropout(0.5))\n",
    "model.add(Dense(1))"
   ]
  },
  {
   "cell_type": "markdown",
   "metadata": {},
   "source": [
    "### Train, Validate, and Save Model"
   ]
  },
  {
   "cell_type": "code",
   "execution_count": 8,
   "metadata": {
    "collapsed": false,
    "scrolled": false
   },
   "outputs": [
    {
     "name": "stdout",
     "output_type": "stream",
     "text": [
      "Epoch 1/5\n"
     ]
    },
    {
     "name": "stderr",
     "output_type": "stream",
     "text": [
      "C:\\Program Files\\Anaconda3\\lib\\site-packages\\ipykernel\\__main__.py:19: FutureWarning: comparison to `None` will result in an elementwise object comparison in the future.\n"
     ]
    },
    {
     "name": "stdout",
     "output_type": "stream",
     "text": [
      "6393/6428 [============================>.] - ETA: 1s - loss: 0.0180"
     ]
    },
    {
     "name": "stderr",
     "output_type": "stream",
     "text": [
      "C:\\Program Files\\Anaconda3\\lib\\site-packages\\keras\\engine\\training.py:1573: UserWarning: Epoch comprised more than `samples_per_epoch` samples, which might affect learning results. Set `samples_per_epoch` correctly to avoid this warning.\n",
      "  warnings.warn('Epoch comprised more than '\n"
     ]
    },
    {
     "name": "stdout",
     "output_type": "stream",
     "text": [
      "6448/6428 [==============================] - 248s - loss: 0.0180 - val_loss: 0.0127\n",
      "Epoch 2/5\n",
      "6472/6428 [==============================] - 246s - loss: 0.0147 - val_loss: 0.0118\n",
      "Epoch 3/5\n",
      "6467/6428 [==============================] - 260s - loss: 0.0140 - val_loss: 0.0104\n",
      "Epoch 4/5\n",
      "6428/6428 [==============================] - 257s - loss: 0.0130 - val_loss: 0.0111\n",
      "Epoch 5/5\n",
      "6429/6428 [==============================] - 259s - loss: 0.0129 - val_loss: 0.0111\n",
      "model <method-wrapper '__str__' of Sequential object at 0x000000DF40D3D0B8> saved\n"
     ]
    }
   ],
   "source": [
    "model.compile(loss='mse', optimizer='adam')\n",
    "# model.fit(X_train, y_train, validation_split=0.2, shuffle=True, nb_epoch=5, batch_size=batch_size)\n",
    "\n",
    "nb_val_samples = len(validation_samples)\n",
    "nb_epoch = 5\n",
    "\n",
    "# Complie modile with Generator\n",
    "history_object = model.fit_generator(train_generator, samples_per_epoch=len(train_samples), \\\n",
    "                   validation_data=validation_generator, \\\n",
    "                   nb_val_samples=nb_val_samples, nb_epoch=nb_epoch, \\\n",
    "                   verbose=1)\n",
    "\n",
    "model.save('model-udacity-data.h5')\n",
    "print('model {} saved'.format(model.__str__))"
   ]
  },
  {
   "cell_type": "markdown",
   "metadata": {},
   "source": [
    "### Analyze how well the model does"
   ]
  },
  {
   "cell_type": "code",
   "execution_count": 9,
   "metadata": {
    "collapsed": false
   },
   "outputs": [
    {
     "name": "stdout",
     "output_type": "stream",
     "text": [
      "dict_keys(['loss', 'val_loss'])\n"
     ]
    }
   ],
   "source": [
    "print(history_object.history.keys())"
   ]
  },
  {
   "cell_type": "code",
   "execution_count": 10,
   "metadata": {
    "collapsed": false
   },
   "outputs": [
    {
     "data": {
      "image/png": "[encoded data removed]",
      "text/plain": [
       "<matplotlib.figure.Figure at 0xdf40d2a358>"
      ]
     },
     "metadata": {},
     "output_type": "display_data"
    }
   ],
   "source": [
    "plt.plot(history_object.history['val_loss'])\n",
    "plt.plot(history_object.history['loss'])\n",
    "plt.title('model mean squared error loss')\n",
    "plt.ylabel('meansquared error loss')\n",
    "plt.xlabel('epoch')\n",
    "plt.legend(['training set', 'validation set'], loc='upper right')\n",
    "plt.show()"
   ]
  },
  {
   "cell_type": "code",
   "execution_count": null,
   "metadata": {
    "collapsed": true
   },
   "outputs": [],
   "source": []
  }
 ],
 "metadata": {
  "anaconda-cloud": {},
  "kernelspec": {
   "display_name": "Python [conda root]",
   "language": "python",
   "name": "conda-root-py"
  },
  "language_info": {
   "codemirror_mode": {
    "name": "ipython",
    "version": 3
   },
   "file_extension": ".py",
   "mimetype": "text/x-python",
   "name": "python",
   "nbconvert_exporter": "python",
   "pygments_lexer": "ipython3",
   "version": "3.5.2"
  }
 },
 "nbformat": 4,
 "nbformat_minor": 1
}
