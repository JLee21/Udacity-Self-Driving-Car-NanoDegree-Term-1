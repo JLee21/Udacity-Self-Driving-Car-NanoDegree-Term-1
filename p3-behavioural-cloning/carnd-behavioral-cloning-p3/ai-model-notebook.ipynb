{
 "cells": [
  {
   "cell_type": "code",
   "execution_count": 10,
   "metadata": {
    "collapsed": false
   },
   "outputs": [],
   "source": [
    "import csv\n",
    "import cv2\n",
    "import numpy as np\n",
    "import matplotlib.pyplot as plt\n",
    "from tqdm import tqdm\n",
    "from keras.models import Sequential\n",
    "from keras.layers import Flatten, Dense, Lambda, Activation\n",
    "from keras.layers.convolutional import Convolution2D\n",
    "from keras.layers.pooling import MaxPooling2D\n",
    "from keras.layers.core import Dropout"
   ]
  },
  {
   "cell_type": "code",
   "execution_count": 11,
   "metadata": {
    "collapsed": false
   },
   "outputs": [],
   "source": [
    "# If using AWS server, set this to True to change the file data's path\n",
    "aws = True\n",
    "\n",
    "if aws:\n",
    "    csv_path = '/home/carnd/Udacity-Self-Driving-Car-NanoDegree/p3-behavioural-cloning' \\\n",
    "                '/carnd-behavioral-cloning-p3/data/driving_log.csv'\n",
    "    image_path = '/home/carnd/Udacity-Self-Driving-Car-NanoDegree/p3-behavioural-cloning' \\\n",
    "                '/carnd-behavioral-cloning-p3/data/IMG'\n",
    "else:\n",
    "    csv_path = \"D:\\SDC\\p3-Behavioural-Cloning\\p3-behavorial-cloning\\data\\data\\driving_log.csv\"\n",
    "    image_path = \"D:\\SDC\\p3-Behavioural-Cloning\\p3-behavorial-cloning\\data\\data\\IMG\\\\\"\n",
    "\n",
    "lines = []\n",
    "with open(csv_path) as csvfile:\n",
    "    reader = csv.reader(csvfile)\n",
    "    next(reader, None)\n",
    "    for line in reader:\n",
    "        lines.append(line)\n",
    "        \n",
    "# Check if our CSV list is missing anything\n",
    "assert len(lines) > 0\n",
    "assert len(lines[0]) == 7"
   ]
  },
  {
   "cell_type": "code",
   "execution_count": 12,
   "metadata": {
    "collapsed": false,
    "scrolled": true
   },
   "outputs": [
    {
     "name": "stdout",
     "output_type": "stream",
     "text": [
      "/home/carnd/Udacity-Self-Driving-Car-NanoDegree/p3-behavioural-cloning/carnd-behavioral-cloning-p3\n",
      ".\n",
      "./__MACOSX\n",
      "./__MACOSX\n",
      "./__MACOSX\n",
      "./__MACOSX\n",
      "./__MACOSX\n",
      "./__MACOSX\n",
      "./__MACOSX\n",
      "./__MACOSX\n",
      "./__MACOSX\n",
      "./__MACOSX\n",
      "./__MACOSX/data\n",
      "./__MACOSX/data\n",
      "./__MACOSX/data\n",
      "./__MACOSX/data\n",
      "./__MACOSX/data\n",
      "./__MACOSX/data\n",
      "./__MACOSX/data\n",
      "./__MACOSX/data\n",
      "./__MACOSX/data\n",
      "./__MACOSX/data\n",
      "./__MACOSX/data\n",
      "./__MACOSX/data\n",
      "./__MACOSX/data\n",
      "./__MACOSX/data\n",
      "./__MACOSX/data\n",
      "./__MACOSX/data/IMG\n",
      "./__MACOSX/data/IMG\n",
      "./__MACOSX/data/IMG\n",
      "./__MACOSX/data/IMG\n",
      "./__MACOSX/data/IMG\n",
      "./__MACOSX/data/IMG\n",
      "./__MACOSX/data/IMG\n",
      "./__MACOSX/data/IMG\n",
      "./__MACOSX/data/IMG\n",
      "./__MACOSX/data/IMG\n",
      "./__MACOSX/data/IMG\n",
      "./__MACOSX/data/IMG\n",
      "./__MACOSX/data/IMG\n",
      "./__MACOSX/data/IMG\n",
      "./__MACOSX/data/IMG\n",
      "./__MACOSX/data/IMG\n",
      "./__MACOSX/data/IMG\n",
      "./__MACOSX/data/IMG\n",
      "./__MACOSX/data/IMG\n",
      "./data\n",
      "./data\n",
      "./data\n",
      "./data\n",
      "./data\n",
      "./data\n",
      "./data/IMG\n",
      "./data/IMG\n",
      "./data/IMG\n",
      "./data/IMG\n",
      "./data/IMG\n",
      "./data/IMG\n",
      "./data/IMG\n",
      "./data/IMG\n",
      "./data/IMG\n",
      "./data/IMG\n",
      "./.ipynb_checkpoints\n",
      "./.ipynb_checkpoints\n",
      "./.ipynb_checkpoints\n",
      "./.ipynb_checkpoints\n",
      "./.ipynb_checkpoints\n",
      "./.ipynb_checkpoints\n",
      "./.ipynb_checkpoints\n",
      "./.ipynb_checkpoints\n",
      "./.ipynb_checkpoints\n",
      "./.ipynb_checkpoints\n",
      "./.ipynb_checkpoints\n",
      "./.ipynb_checkpoints\n",
      "./.ipynb_checkpoints\n",
      "./.ipynb_checkpoints\n",
      "./.ipynb_checkpoints\n",
      "./.ipynb_checkpoints\n",
      "./.ipynb_checkpoints\n",
      "./.ipynb_checkpoints\n",
      "./.ipynb_checkpoints\n",
      "./.ipynb_checkpoints\n"
     ]
    }
   ],
   "source": [
    "import os\n",
    "print(os.getcwd())\n",
    "\n",
    "for a, b, c in os.walk(\".\"):\n",
    "    for stuff in a:\n",
    "        print('{}'.format(a))\n",
    "\n",
    "# csv_path = r\"D:\\SDC\\p3-Behavioural-Cloning\\p3-behavorial-cloning\\data\\data\\driving_log.csv\"\n",
    "# import pandas as pd\n",
    "# csv = pd.read_csv(csv_path)"
   ]
  },
  {
   "cell_type": "markdown",
   "metadata": {
    "collapsed": true
   },
   "source": [
    "### Parse CSV file"
   ]
  },
  {
   "cell_type": "code",
   "execution_count": 13,
   "metadata": {
    "collapsed": false,
    "scrolled": false
   },
   "outputs": [
    {
     "name": "stderr",
     "output_type": "stream",
     "text": [
      "100%|██████████| 8036/8036 [00:07<00:00, 1034.04it/s]\n"
     ]
    }
   ],
   "source": [
    "images = []\n",
    "measurements = []\n",
    "for line in tqdm(lines):\n",
    "    source_path = line[0]\n",
    "    filename = source_path.split('/')[-1]\n",
    "    image_path_list = image_path + '/' + filename\n",
    "    image = cv2.imread(image_path_list)\n",
    "    images.append(image)\n",
    "    measurement = float(line[3])\n",
    "    measurements.append(measurement)"
   ]
  },
  {
   "cell_type": "markdown",
   "metadata": {},
   "source": [
    "### Flip Image and Steering Angle"
   ]
  },
  {
   "cell_type": "code",
   "execution_count": 15,
   "metadata": {
    "collapsed": false
   },
   "outputs": [
    {
     "name": "stdout",
     "output_type": "stream",
     "text": [
      "0.0\n"
     ]
    }
   ],
   "source": [
    "print(measurements[0])"
   ]
  },
  {
   "cell_type": "code",
   "execution_count": 16,
   "metadata": {
    "collapsed": true
   },
   "outputs": [],
   "source": [
    "augmented_images, augmented_measurements = [], []\n",
    "for image, measurement in zip(images, measurements):\n",
    "    augmented_images.append(image)\n",
    "    augmented_measurements.append(measurement)\n",
    "    # Avoid adding all angles that are at 0.0\n",
    "    if measurement == 0.0: continue\n",
    "    augmented_images.append(cv2.flip(image, 1))\n",
    "    augmented_measurements.append(measurement*-1.0)"
   ]
  },
  {
   "cell_type": "markdown",
   "metadata": {},
   "source": [
    "### Plot Histogram of Steering Angle Distribution"
   ]
  },
  {
   "cell_type": "code",
   "execution_count": 17,
   "metadata": {
    "collapsed": false,
    "scrolled": true
   },
   "outputs": [
    {
     "data": {
      "image/png": "[encoded data removed]",
      "text/plain": [
       "<matplotlib.figure.Figure at 0x7f230d25f9b0>"
      ]
     },
     "metadata": {},
     "output_type": "display_data"
    }
   ],
   "source": [
    "plt.hist(augmented_measurements, 50)\n",
    "plt.show()"
   ]
  },
  {
   "cell_type": "markdown",
   "metadata": {},
   "source": [
    "### Construct Model"
   ]
  },
  {
   "cell_type": "code",
   "execution_count": 21,
   "metadata": {
    "collapsed": false
   },
   "outputs": [],
   "source": [
    "batch_size = 32\n",
    "\n",
    "X_train = np.array(augmented_images)\n",
    "y_train = np.array(augmented_measurements)\n",
    "\n",
    "# How can I delete the lists that created the NP arrays above in order to free up RAM?\n",
    "\n",
    "# X_train = np.array(images)\n",
    "# y_train = np.array(measurements)\n",
    "\n",
    "# barebones model\n",
    "# model = Sequential()\n",
    "# model.add(Flatten(input_shape=(160,320,3)))\n",
    "# model.add(Dense(128))\n",
    "# model.add(Dense(84))\n",
    "# model.add(Dense(1))\n",
    "\n",
    "model = Sequential()\n",
    "model.add(Lambda(lambda x: x / 255.0 - 0.5, input_shape=(160, 320, 3)))\n",
    "# model.add(Convolution2D(nb_row=5, nb_col=5, nb_filter=16))\n",
    "# model.add(Activation('relu'))\n",
    "# model.add(Dropout(0.25))\n",
    "model.add(Flatten())\n",
    "model.add(Dense(128))\n",
    "model.add(Activation('relu'))\n",
    "model.add(Dropout(0.5))\n",
    "model.add(Dense(84))\n",
    "model.add(Activation('relu'))\n",
    "model.add(Dropout(0.5))\n",
    "model.add(Dense(1))\n",
    "\n",
    "# Model 3\n",
    "# model = Sequential()\n",
    "# model.add(Lambda(lambda x: x / 255.0 - 0.5, input_shape=(160, 320, 3)))\n",
    "# model.add(Convolution2D(nb_row=3, nb_col=3, nb_filter=32))\n",
    "# model.add(MaxPooling2D(strides=None))\n",
    "# model.add(Dropout(0.5))\n",
    "# model.add(Flatten())\n",
    "# model.add(Dense(128))\n",
    "# model.add(Activation('relu'))\n",
    "# model.add(Dropout(0.5))\n",
    "# model.add(Dense(84))\n",
    "# model.add(Activation('relu'))\n",
    "# model.add(Dropout(0.5))\n",
    "# model.add(Dense(1))"
   ]
  },
  {
   "cell_type": "code",
   "execution_count": null,
   "metadata": {
    "collapsed": true
   },
   "outputs": [],
   "source": []
  },
  {
   "cell_type": "markdown",
   "metadata": {},
   "source": [
    "### Train, Validate, and Save Model"
   ]
  },
  {
   "cell_type": "code",
   "execution_count": 20,
   "metadata": {
    "collapsed": false
   },
   "outputs": [
    {
     "name": "stdout",
     "output_type": "stream",
     "text": [
      "Train on 9368 samples, validate on 2343 samples\n",
      "Epoch 1/5\n",
      "9368/9368 [==============================] - 22s - loss: 3.8036 - val_loss: 0.0231\n",
      "Epoch 2/5\n",
      "9368/9368 [==============================] - 21s - loss: 0.0924 - val_loss: 0.0231\n",
      "Epoch 3/5\n",
      "9368/9368 [==============================] - 21s - loss: 0.0396 - val_loss: 0.0230\n",
      "Epoch 4/5\n",
      "9368/9368 [==============================] - 21s - loss: 0.0422 - val_loss: 0.0229\n",
      "Epoch 5/5\n",
      "9368/9368 [==============================] - 21s - loss: 0.0239 - val_loss: 0.0229\n"
     ]
    }
   ],
   "source": [
    "model.compile(loss='mse', optimizer='adam')\n",
    "model.fit(X_train, y_train, validation_split=0.2, shuffle=True, nb_epoch=5, batch_size=batch_size)\n",
    "\n",
    "model.save('model-v1.h5')"
   ]
  }
 ],
 "metadata": {
  "anaconda-cloud": {},
  "kernelspec": {
   "display_name": "Python [conda env:carnd-term1]",
   "language": "python",
   "name": "conda-env-carnd-term1-py"
  },
  "language_info": {
   "codemirror_mode": {
    "name": "ipython",
    "version": 3
   },
   "file_extension": ".py",
   "mimetype": "text/x-python",
   "name": "python",
   "nbconvert_exporter": "python",
   "pygments_lexer": "ipython3",
   "version": "3.5.2"
  }
 },
 "nbformat": 4,
 "nbformat_minor": 1
}
